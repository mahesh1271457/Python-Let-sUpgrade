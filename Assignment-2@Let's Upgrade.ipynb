{
 "cells": [
  {
   "cell_type": "markdown",
   "metadata": {},
   "source": [
    "# PATHI MAHESH KUMAR\n",
    "maheshkumarpathi.1999@gmail.com\n",
    "\n",
    "ASSIGNMENT-2"
   ]
  },
  {
   "cell_type": "markdown",
   "metadata": {},
   "source": [
    "## 1)Python code to remove duplicate elements"
   ]
  },
  {
   "cell_type": "code",
   "execution_count": 4,
   "metadata": {},
   "outputs": [
    {
     "name": "stdout",
     "output_type": "stream",
     "text": [
      "[2, 4, 10, 20, 5]\n"
     ]
    }
   ],
   "source": [
    "def Remove(duplicate):\n",
    "\tfinal_list = []\n",
    "\tfor num in duplicate:\n",
    "\t\tif num not in final_list:\n",
    "\t\t\tfinal_list.append(num)\n",
    "\treturn final_list\n",
    "duplicate = [2, 4, 10, 20, 5, 2, 20, 4]\n",
    "print(Remove(duplicate))\n"
   ]
  },
  {
   "cell_type": "markdown",
   "metadata": {},
   "source": [
    "## 2)Python code t get difference of two lists"
   ]
  },
  {
   "cell_type": "code",
   "execution_count": 6,
   "metadata": {},
   "outputs": [
    {
     "name": "stdout",
     "output_type": "stream",
     "text": [
      "[10, 20, 30, 15]\n"
     ]
    }
   ],
   "source": [
    "def Diff(li1, li2):\n",
    "    return (list(list(set(li1)-set(li2)) + list(set(li2)-set(li1))))\n",
    "li1 = [10, 15, 20, 25, 30, 35, 40]\n",
    "li2 = [25, 40, 35]\n",
    "print(Diff(li1, li2))\n"
   ]
  },
  {
   "cell_type": "markdown",
   "metadata": {},
   "source": [
    "## 3)Write a Python program to get the frequency of the elements in a list"
   ]
  },
  {
   "cell_type": "code",
   "execution_count": 7,
   "metadata": {},
   "outputs": [
    {
     "name": "stdout",
     "output_type": "stream",
     "text": [
      "---------------------\n",
      " Element | Frequency\n",
      "---------------------\n",
      "    1    |    2\n",
      "    2    |    4\n",
      "    8    |    1\n",
      "    3    |    1\n",
      "    5    |    1\n",
      "---------------------\n"
     ]
    }
   ],
   "source": [
    "#Initialize array     \n",
    "arr = [1, 2, 8, 3, 2, 2, 2, 5, 1];     \n",
    "#Array fr will store frequencies of element    \n",
    "fr = [None] * len(arr);    \n",
    "visited = -1;    \n",
    "     \n",
    "for i in range(0, len(arr)):    \n",
    "    count = 1;    \n",
    "    for j in range(i+1, len(arr)):    \n",
    "        if(arr[i] == arr[j]):    \n",
    "            count = count + 1;    \n",
    "            #To avoid counting same element again    \n",
    "            fr[j] = visited;    \n",
    "                \n",
    "    if(fr[i] != visited):    \n",
    "        fr[i] = count;    \n",
    "     \n",
    "#Displays the frequency of each element present in array    \n",
    "print(\"---------------------\");    \n",
    "print(\" Element | Frequency\");    \n",
    "print(\"---------------------\");    \n",
    "for i in range(0, len(fr)):    \n",
    "    if(fr[i] != visited):    \n",
    "        print(\"    \" + str(arr[i]) + \"    |    \" + str(fr[i]));    \n",
    "print(\"---------------------\");    "
   ]
  },
  {
   "cell_type": "markdown",
   "metadata": {},
   "source": [
    "## 4)Write a Python program to compute the similarity between two lists."
   ]
  },
  {
   "cell_type": "code",
   "execution_count": 8,
   "metadata": {},
   "outputs": [
    {
     "name": "stdout",
     "output_type": "stream",
     "text": [
      "Color1-Color2:  ['red', 'orange', 'white']\n",
      "Color2-Color1:  ['black', 'yellow']\n"
     ]
    }
   ],
   "source": [
    "from collections import Counter\n",
    "color1 = [\"red\", \"orange\", \"green\", \"blue\", \"white\"]\n",
    "color2 = [\"black\", \"yellow\", \"green\", \"blue\"]\n",
    "counter1 = Counter(color1)\n",
    "counter2 = Counter(color2)\n",
    "print(\"Color1-Color2: \",list(counter1 - counter2))\n",
    "print(\"Color2-Color1: \",list(counter2 - counter1))"
   ]
  },
  {
   "cell_type": "markdown",
   "metadata": {},
   "source": [
    "### 5)Write a Python function that takes a list of words and returns the length of the longest one"
   ]
  },
  {
   "cell_type": "code",
   "execution_count": 9,
   "metadata": {},
   "outputs": [
    {
     "name": "stdout",
     "output_type": "stream",
     "text": [
      "\n",
      "Longest word:  Exercises\n",
      "Length of the longest word:  9\n"
     ]
    }
   ],
   "source": [
    "def find_longest_word(words_list):\n",
    "    word_len = []\n",
    "    for n in words_list:\n",
    "        word_len.append((len(n), n))\n",
    "    word_len.sort()\n",
    "    return word_len[-1][0], word_len[-1][1]\n",
    "result = find_longest_word([\"PHP\", \"Exercises\", \"Backend\"])\n",
    "print(\"\\nLongest word: \",result[1])\n",
    "print(\"Length of the longest word: \",result[0])\n"
   ]
  },
  {
   "cell_type": "markdown",
   "metadata": {},
   "source": [
    "### 6)Write a Python program to count the occurrences of each word in a given sentence"
   ]
  },
  {
   "cell_type": "code",
   "execution_count": 10,
   "metadata": {},
   "outputs": [
    {
     "name": "stdout",
     "output_type": "stream",
     "text": [
      "{'the': 2, 'quick': 1, 'brown': 1, 'fox': 1, 'jumps': 1, 'over': 1, 'lazy': 1, 'dog.': 1}\n"
     ]
    }
   ],
   "source": [
    "def word_count(str):\n",
    "    counts = dict()\n",
    "    words = str.split()\n",
    "\n",
    "    for word in words:\n",
    "        if word in counts:\n",
    "            counts[word] += 1\n",
    "        else:\n",
    "            counts[word] = 1\n",
    "\n",
    "    return counts\n",
    "\n",
    "print( word_count('the quick brown fox jumps over the lazy dog.'))\n"
   ]
  },
  {
   "cell_type": "markdown",
   "metadata": {},
   "source": [
    "### 7)Write a Python program to count and display the vowels of a given text"
   ]
  },
  {
   "cell_type": "code",
   "execution_count": 11,
   "metadata": {},
   "outputs": [
    {
     "name": "stdout",
     "output_type": "stream",
     "text": [
      "4\n",
      "['e', 'o', 'u', 'e']\n"
     ]
    }
   ],
   "source": [
    "def vowel(text):\n",
    "    vowels = \"aeiuoAEIOU\"\n",
    "    print(len([letter for letter in text if letter in vowels]))\n",
    "    print([letter for letter in text if letter in vowels])\n",
    "vowel('w3resource');\n"
   ]
  },
  {
   "cell_type": "markdown",
   "metadata": {},
   "source": [
    "### 8)Write a Python script to generate and print a dictionary that contains a number (between 1 and n)in the form (x, x*x)\n"
   ]
  },
  {
   "cell_type": "code",
   "execution_count": 12,
   "metadata": {},
   "outputs": [
    {
     "name": "stdout",
     "output_type": "stream",
     "text": [
      "Input a number 2\n",
      "{1: 1, 2: 4}\n"
     ]
    }
   ],
   "source": [
    "n=int(input(\"Input a number \"))\n",
    "d = dict()\n",
    "\n",
    "for x in range(1,n+1):\n",
    "    d[x]=x*x\n",
    "\n",
    "print(d) \n"
   ]
  },
  {
   "cell_type": "markdown",
   "metadata": {},
   "source": [
    "### 9)Write a Python program to combine two dictionary adding values for common keys\n",
    "● d1 = {'a': 100, 'b': 200, 'c':300}\n",
    "\n",
    "● d2 = {'a': 300, 'b': 200, 'd':400}\n",
    "\n",
    "● Sample output: Counter({'a': 400, 'b': 400, 'd': 400, 'c': 300})"
   ]
  },
  {
   "cell_type": "code",
   "execution_count": 13,
   "metadata": {},
   "outputs": [
    {
     "name": "stdout",
     "output_type": "stream",
     "text": [
      "{'a': 400, 'b': 400, 'c': 300, 'd': 400}\n"
     ]
    }
   ],
   "source": [
    "d1 = {'a': 100, 'b': 200, 'c':300}\n",
    "\n",
    "d2 = {'a': 300, 'b': 200, 'd':400}\n",
    "\n",
    "d3 = dict(d1) # don't do `d3=d1`, you need to make a copy\n",
    "\n",
    "d3.update(d2) \n",
    "\n",
    "for i, j in d1.items():\n",
    "\n",
    "    for x, y in d2.items():\n",
    "\n",
    "        if i == x:\n",
    "\n",
    "            d3[i]=(j+y)\n",
    "\n",
    "print(d3)"
   ]
  },
  {
   "cell_type": "markdown",
   "metadata": {},
   "source": [
    "### 10)Write a Python program to print all unique values in a dictionary\n",
    "\n",
    "● Sample Data : [{\"V\":\"S001\"}, {\"V\": \"S002\"}, {\"VI\": \"S001\"}, {\"VI\": \"S005\"}, {\"VII\":\"S005\"},{\"V\":\"S009\"},{\"VIII\":\"S007\"}]\n",
    "\n",
    "● Expected Output : Unique Values: {'S005', 'S002', 'S007', 'S001', 'S009'}"
   ]
  },
  {
   "cell_type": "code",
   "execution_count": 17,
   "metadata": {},
   "outputs": [
    {
     "name": "stdout",
     "output_type": "stream",
     "text": [
      "Original List:  [{'V': 'S001'}, {'V': 'S002'}, {'VI': 'S001'}, {'VI': 'S005'}, {'VII': 'S005'}, {'V': 'S009'}, {'VIII': 'S007'}]\n",
      "Unique Values:  {'S002', 'S007', 'S005', 'S001', 'S009'}\n"
     ]
    }
   ],
   "source": [
    "L = [{\"V\":\"S001\"}, {\"V\": \"S002\"}, {\"VI\": \"S001\"}, {\"VI\": \"S005\"}, {\"VII\":\"S005\"}, {\"V\":\"S009\"},{\"VIII\":\"S007\"}]\n",
    "print(\"Original List: \",L)\n",
    "u_value = set( val for dic in L for val in dic.values())\n",
    "print(\"Unique Values: \",u_value)\n"
   ]
  },
  {
   "cell_type": "code",
   "execution_count": null,
   "metadata": {},
   "outputs": [],
   "source": []
  }
 ],
 "metadata": {
  "kernelspec": {
   "display_name": "Python 3",
   "language": "python",
   "name": "python3"
  },
  "language_info": {
   "codemirror_mode": {
    "name": "ipython",
    "version": 3
   },
   "file_extension": ".py",
   "mimetype": "text/x-python",
   "name": "python",
   "nbconvert_exporter": "python",
   "pygments_lexer": "ipython3",
   "version": "3.8.5"
  }
 },
 "nbformat": 4,
 "nbformat_minor": 4
}
