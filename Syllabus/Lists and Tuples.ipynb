{
 "cells": [
  {
   "cell_type": "markdown",
   "metadata": {},
   "source": [
    "#                              List & Tuple"
   ]
  },
  {
   "cell_type": "markdown",
   "metadata": {},
   "source": [
    "# List: Cheat Sheet"
   ]
  },
  {
   "cell_type": "markdown",
   "metadata": {},
   "source": [
    "- List is same like an array that contains group of elements or items.\n",
    " \n",
    "    Ex:-  array={1,2,3,4,5}   list=[1,2,3,4,5]\n",
    "        \n",
    "        \n",
    "- List are more versatile and useful than an array.\n",
    "\n",
    "\n",
    "- Array stores only one type of data elements,Where as List stores different     types of elements\n",
    "\n",
    "    Ex:-  array={1,2,3,4,5}   list=[1,'mahesh',2.5,'kumar','M']\n",
    " \n",
    " "
   ]
  },
  {
   "cell_type": "markdown",
   "metadata": {},
   "source": [
    "Making a list:\n",
    "\n",
    "colors = ['Red', 'Blue', 'Green', 'Black', 'White']\n",
    "\n",
    "Accessing elements:\n",
    "\n",
    "### Getting the first element\n",
    "\n",
    "first_col = colors[0]\n",
    "\n",
    "### Getting the second element\n",
    "\n",
    "second_col = colors[1]\n",
    "\n",
    "### Getting the last element\n",
    "\n",
    "newest_col = colors[-1]\n",
    "\n",
    "Modifying individual items:\n",
    "\n",
    "### Changing an element\n",
    "\n",
    "colors[0] = 'Yellow'\n",
    "\n",
    "colors[-2] = 'Red'\n",
    "\n",
    "Adding elements:\n",
    "\n",
    "### Adding an element to the end of the list\n",
    "\n",
    "colors.append('Orange')\n",
    "\n",
    "### Starting with an empty list\n",
    "colors = []\n",
    "\n",
    "colors.append('Red')\n",
    "\n",
    "colors.append('Blue')\n",
    "\n",
    "colors.append('Green')\n",
    "\n",
    "### Inserting elements at a particular position\n",
    "\n",
    "colors.insert(0, 'Violet')\n",
    "\n",
    "colors.insert(2, 'Purple')\n",
    "\n",
    "Removing elements:\n",
    "\n",
    "### Deleting an element by its position\n",
    "\n",
    "del colors[-1]\n",
    "\n",
    "### Removing an item by its value\n",
    "\n",
    "colors.remove('Green')\n",
    "\n",
    "Popping elements:\n",
    "\n",
    "### Pop the last item from a list\n",
    "\n",
    "most_recent_col = colors.pop()\n",
    "\n",
    "print(most_recent_col)\n",
    "\n",
    "### Pop the first item in a list\n",
    "\n",
    "first_col = colors.pop(0)\n",
    "\n",
    "print(first_col)\n",
    "\n",
    "List length:\n",
    "\n",
    "### Find the length of a list\n",
    "\n",
    "num_colors = len(colors)\n",
    "\n",
    "print(\"We have \" + str(num_colors) + \" colors.\")\n",
    "\n",
    "Sorting a list:\n",
    "\n",
    "### Sorting a list permanently\n",
    "\n",
    "colors.sort()\n",
    "\n",
    "### Sorting a list permanently in reverse alphabetical order\n",
    "\n",
    "colors.sort(reverse=True)\n",
    "\n",
    "### Sorting a list temporarily\n",
    "\n",
    "print(sorted(colors))\n",
    "\n",
    "print(sorted(colors, reverse=True))\n",
    "\n",
    "### Reversing the order of a list\n",
    "\n",
    "colors.reverse()\n",
    "\n",
    "Looping through a list:\n",
    "\n",
    "### Printing all items in a list\n",
    "\n",
    "for col in colors:\n",
    "\n",
    "print(col)\n",
    "\n",
    "### Printing a message for each item, and a separate message  afterwards\n",
    "\n",
    "for col in colors:\n",
    "\n",
    " print(\"Welcome, \" + col + \"!\")\n",
    "\n",
    "print(\"Welcome, we're glad to see you all!\")\n",
    "\n",
    "The range() function:\n",
    "\n",
    "### Printing the numbers 0 to 2000\n",
    "\n",
    "for num in range(2001):\n",
    "\n",
    "print(num)\n",
    "\n",
    "### Printing the numbers 1 to 2000\n",
    "\n",
    "for num in range(1, 2001):\n",
    "\n",
    "print(num)\n",
    "\n",
    "### Making a list of numbers from 1 to a million\n",
    "\n",
    "nums = list(range(1, 1000001))\n",
    "\n",
    "Simple statistics:\n",
    "\n",
    "### Finding the minimum value in a list\n",
    "\n",
    "nums = [23, 22, 44, 17, 77, 55, 1, 65, 82, 2]\n",
    "\n",
    "num_min = min(nums)\n",
    "\n",
    "### Finding the maximum value\n",
    "\n",
    "nums = [23, 22, 44, 17, 77, 55, 1, 65, 82, 2]\n",
    "\n",
    "num_max = max(nums)\n",
    "\n",
    "### Finding the sum of all numbers\n",
    "\n",
    "nums = [23, 22, 44, 17, 77, 55, 1, 65, 82, 2]\n",
    "\n",
    "total_num = sum(nums)\n",
    "\n",
    "Slicing a list:\n",
    "\n",
    "### Getting the first three items\n",
    "\n",
    "colors = ['Red', 'Blue', 'Green', 'Black', 'White']\n",
    "\n",
    "first_three = colors [:3]\n",
    "\n",
    "### Getting the middle three items\n",
    "\n",
    "middle_three = colors[1:4]\n",
    "\n",
    "### Getting the last three items\n",
    "\n",
    "last_three = colors[-3:]\n",
    "\n",
    "Copying a list:\n",
    "\n",
    "### Making a copy of a list\n",
    "\n",
    "colors = ['Red', 'Blue', 'Green', 'Black', 'White']\n",
    "\n",
    "copy_of_colors = colors[:]\n",
    "\n",
    "List of Comprehensions:\n",
    "\n",
    "### Using a loop to generate a list of square numbers\n",
    "\n",
    "squr = []\n",
    "\n",
    "for x in range(1, 11):\n",
    "\n",
    "sq = x**2\n",
    "\n",
    "squr.append(sq)\n",
    "\n",
    "### Using a comprehension to generate a list of square numbers\n",
    "\n",
    "squr = [x**2 for x in range(1, 11)]\n",
    "\n",
    "### Using a loop to convert a list of names to upper case\n",
    "\n",
    "colors = ['Red', 'Blue', 'Green', 'Black', 'White']\n",
    "\n",
    "upper_cols = []\n",
    "\n",
    "for cols in colors:\n",
    " \n",
    " upper_cols.append(cols.upper())\n",
    " \n",
    "### Using a comprehension to convert a list of names to upper case\n",
    "colors = ['Red', 'Blue', 'Green', 'Black', 'White']\n",
    "\n",
    "upper_cols = [cols.upper() for cols in colors]"
   ]
  },
  {
   "cell_type": "code",
   "execution_count": 1,
   "metadata": {},
   "outputs": [
    {
     "name": "stdout",
     "output_type": "stream",
     "text": [
      "[1, 2, 3, 4, 5]\n"
     ]
    }
   ],
   "source": [
    "list=[1,2,3,4,5]\n",
    "print(list)"
   ]
  },
  {
   "cell_type": "code",
   "execution_count": 17,
   "metadata": {},
   "outputs": [
    {
     "data": {
      "text/plain": [
       "list"
      ]
     },
     "execution_count": 17,
     "metadata": {},
     "output_type": "execute_result"
    }
   ],
   "source": [
    "type(list)"
   ]
  },
  {
   "cell_type": "code",
   "execution_count": 2,
   "metadata": {},
   "outputs": [
    {
     "data": {
      "text/plain": [
       "[1, 2, 3]"
      ]
     },
     "execution_count": 2,
     "metadata": {},
     "output_type": "execute_result"
    }
   ],
   "source": [
    "list[0:3]"
   ]
  },
  {
   "cell_type": "code",
   "execution_count": 3,
   "metadata": {},
   "outputs": [
    {
     "data": {
      "text/plain": [
       "5"
      ]
     },
     "execution_count": 3,
     "metadata": {},
     "output_type": "execute_result"
    }
   ],
   "source": [
    "list[-1]"
   ]
  },
  {
   "cell_type": "code",
   "execution_count": 4,
   "metadata": {},
   "outputs": [
    {
     "data": {
      "text/plain": [
       "[1, 2, 3]"
      ]
     },
     "execution_count": 4,
     "metadata": {},
     "output_type": "execute_result"
    }
   ],
   "source": [
    "list[:-2]"
   ]
  },
  {
   "cell_type": "code",
   "execution_count": 5,
   "metadata": {},
   "outputs": [
    {
     "data": {
      "text/plain": [
       "[3, 4, 5]"
      ]
     },
     "execution_count": 5,
     "metadata": {},
     "output_type": "execute_result"
    }
   ],
   "source": [
    "list[2:]"
   ]
  },
  {
   "cell_type": "code",
   "execution_count": 6,
   "metadata": {},
   "outputs": [
    {
     "data": {
      "text/plain": [
       "[1, 2, 3, 4, 5]"
      ]
     },
     "execution_count": 6,
     "metadata": {},
     "output_type": "execute_result"
    }
   ],
   "source": [
    "list[0:5]"
   ]
  },
  {
   "cell_type": "code",
   "execution_count": 7,
   "metadata": {},
   "outputs": [
    {
     "data": {
      "text/plain": [
       "[2, 3, 4, 5]"
      ]
     },
     "execution_count": 7,
     "metadata": {},
     "output_type": "execute_result"
    }
   ],
   "source": [
    "list[1:5]"
   ]
  },
  {
   "cell_type": "code",
   "execution_count": 8,
   "metadata": {},
   "outputs": [
    {
     "name": "stdout",
     "output_type": "stream",
     "text": [
      "[1, 'mahesh', 2.5, 'kumar', 'M']\n"
     ]
    }
   ],
   "source": [
    "list=[1,'mahesh',2.5,'kumar','M']\n",
    "print(list)"
   ]
  },
  {
   "cell_type": "code",
   "execution_count": 9,
   "metadata": {},
   "outputs": [
    {
     "data": {
      "text/plain": [
       "2.5"
      ]
     },
     "execution_count": 9,
     "metadata": {},
     "output_type": "execute_result"
    }
   ],
   "source": [
    "list[2]\n"
   ]
  },
  {
   "cell_type": "code",
   "execution_count": 10,
   "metadata": {},
   "outputs": [
    {
     "data": {
      "text/plain": [
       "'mahesh'"
      ]
     },
     "execution_count": 10,
     "metadata": {},
     "output_type": "execute_result"
    }
   ],
   "source": [
    "list[1]"
   ]
  },
  {
   "cell_type": "code",
   "execution_count": 18,
   "metadata": {},
   "outputs": [
    {
     "data": {
      "text/plain": [
       "5"
      ]
     },
     "execution_count": 18,
     "metadata": {},
     "output_type": "execute_result"
    }
   ],
   "source": [
    "len(list)"
   ]
  },
  {
   "cell_type": "code",
   "execution_count": 11,
   "metadata": {},
   "outputs": [
    {
     "name": "stdout",
     "output_type": "stream",
     "text": [
      "Enter the index value: 2\n",
      "accepted\n"
     ]
    }
   ],
   "source": [
    "n=int(input('Enter the index value: '))\n",
    "li=[2,4,2,8,10,12]\n",
    "if li[n]==2:\n",
    "    print('accepted')\n",
    "else:\n",
    "    print('not accepted')"
   ]
  },
  {
   "cell_type": "markdown",
   "metadata": {},
   "source": [
    "### Write a Python program to sum all the items in a list."
   ]
  },
  {
   "cell_type": "code",
   "execution_count": 12,
   "metadata": {},
   "outputs": [
    {
     "data": {
      "text/plain": [
       "15"
      ]
     },
     "execution_count": 12,
     "metadata": {},
     "output_type": "execute_result"
    }
   ],
   "source": [
    "list=[1,2,3,4,5]\n",
    "sum(list)"
   ]
  },
  {
   "cell_type": "code",
   "execution_count": 13,
   "metadata": {},
   "outputs": [
    {
     "data": {
      "text/plain": [
       "12"
      ]
     },
     "execution_count": 13,
     "metadata": {},
     "output_type": "execute_result"
    }
   ],
   "source": [
    "list=[1,2,3,4,5]\n",
    "sum(list[2:])"
   ]
  },
  {
   "cell_type": "code",
   "execution_count": 14,
   "metadata": {},
   "outputs": [
    {
     "data": {
      "text/plain": [
       "9"
      ]
     },
     "execution_count": 14,
     "metadata": {},
     "output_type": "execute_result"
    }
   ],
   "source": [
    "list=[1,2,3,4,5]\n",
    "sum(list[3:])"
   ]
  },
  {
   "cell_type": "markdown",
   "metadata": {},
   "source": [
    "### Write a Python program to multiplies all the items in a list."
   ]
  },
  {
   "cell_type": "code",
   "execution_count": 15,
   "metadata": {},
   "outputs": [
    {
     "name": "stdout",
     "output_type": "stream",
     "text": [
      "120\n"
     ]
    }
   ],
   "source": [
    "list=[1,2,3,4,5]\n",
    "x=list[0]*list[1]*list[2]*list[3]*list[4]\n",
    "print(x)"
   ]
  },
  {
   "cell_type": "markdown",
   "metadata": {},
   "source": [
    "https://www.w3resource.com/python-exercises/list/"
   ]
  },
  {
   "cell_type": "markdown",
   "metadata": {},
   "source": [
    "# TUPLE"
   ]
  },
  {
   "cell_type": "markdown",
   "metadata": {},
   "source": [
    "#### Tuple creation #####\n",
    "# Create a tuple, also called tuple packing.\n",
    "numbers = 1, 2\n",
    "print(numbers) \n",
    "\n",
    "# Output: (1, 2) <- Note that it is represented with an enclosing paranthesis\n",
    "\n",
    "\n",
    "# Create tuple with paranthesis.\n",
    "numbers = (1, 2, 3)\n",
    "print(numbers) # Output: (1, 2, 3)\n",
    "# Create an empty tuple.\n",
    "numbers = ()\n",
    "print(numbers) # Output: ()\n",
    "# Create a tuple with one item. Note that the trailing comma is necessary\n",
    "numbers = 1,\n",
    "print(numbers) # Output: (1,)\n",
    "# Create a tuple with heterogenous items.\n",
    "random_tuple = \"Hey\", (1, 2), 1, [\"you\"]\n",
    "print(random_tuple) # Output: (\"Hey\", (1, 2), 1, [\"you\"])\n",
    "# Create tuple with tuple() constructor.\n",
    "numbers = tuple()\n",
    "print(numbers) # Output: ()\n",
    "numbers = tuple([1, 2]) #  Takes any sequence as input\n",
    "print(numbers) # Output: (1, 2)\n",
    "\n",
    "#### Methods on tuples #####\n",
    "# Get length of list by using len() method.\n",
    "numbers = 5, 8, 8\n",
    "print(len(numbers)) # Output: 3\n",
    "# Get index of an element using the index() method.\n",
    "numbers = 5, 8, 8\n",
    "print(numbers.index(8)) # Output: 1\n",
    "# Count occurences of an item in a tuple.\n",
    "numbers = 5, 8, 8\n",
    "print(numbers.count(8)) # Output: 2\n",
    "\n",
    "# Access elements of a tuple by indexing.\n",
    "str_tuple = \"hey\", \"there!\", \"how\", \"are\", \"you?\"\n",
    "print(str_tuple[0]) # Output: \"hey\"\n",
    "print(str_tuple[len(str_tuple) - 1]) # Output: \"you?\"\n",
    "print(str_tuple[-1]) # Output: \"you?\"\n",
    "\n",
    "# Slicing a tuple.\n",
    "str_tuple = \"hey\", \"there!\", \"how\", \"are\", \"you?\"\n",
    "print(str_tuple[2:]) # Output: (\"how\", \"are\", \"you?\")\n",
    "print(str_tuple[:2]) # Output: (\"hey\", \"there!\")\n",
    "print(str_tuple[-3:]) # Output: (\"how\", \"are\", \"you?\")\n",
    "print(str_tuple[:-3]) # Output: (\"hey\", \"there!\")\n",
    "print(str_tuple[1:4]) # Output: (\"there!\", \"how\", \"are\")\n",
    "# Get a copy of the tuple by slicing.\n",
    "print(str_tuple[:]) # Output: (\"hey\", \"there!\", \"how\", \"are\", \"you?\")\n",
    "\n",
    "# Concatenate tuples.\n",
    "numbers = (1, 2)\n",
    "strings = (\"Hey\", \"there\")\n",
    "print(numbers + strings) # Output: (1, 2, \"Hey\", \"there\")\n",
    "\n",
    "# Tuples are immutable, that is, we cannot change its contents.\n",
    "numbers = (1, 2, 3)\n",
    "numbers[0] = 100 # Gives error: TypeError: 'tuple' object does not support item assignment\n",
    "del numbers[0] # Gives error: TypeError: 'tuple' object doesn't support item deletion\n",
    "\n",
    "# Looping through tuple using 'in'.\n",
    "numbers = 1, 2\n",
    "for number in numbers:\n",
    "  print(number)\n",
    "  \n",
    "# Check if element is present in tuple.\n",
    "numbers = 1, 2\n",
    "print(1 in numbers) # Output: True\n",
    "print(5 in numbers) # Output: False\n",
    "\n",
    "# Delete tuple using del keyword.\n",
    "numbers = 1, 2\n",
    "del numbers\n",
    "\n",
    "# Tuple packing.\n",
    "# We are packing two items 1 and 2 into the tuple.\n",
    "numbers = 1, 2\n",
    "# Tuple sequence unpacking. \n",
    "# Number of variables used has to be same as the number of items in the tuple.\n",
    "# Unpacking the tuple and assigning its items to x and y.\n",
    "x, y = numbers \n",
    "# Note that this is also packing the args as a tuple which gets unpacked as the print method's arguments.\n",
    "print(x, y) # Output # (1, 2)"
   ]
  }
 ],
 "metadata": {
  "kernelspec": {
   "display_name": "Python 3",
   "language": "python",
   "name": "python3"
  },
  "language_info": {
   "codemirror_mode": {
    "name": "ipython",
    "version": 3
   },
   "file_extension": ".py",
   "mimetype": "text/x-python",
   "name": "python",
   "nbconvert_exporter": "python",
   "pygments_lexer": "ipython3",
   "version": "3.8.5"
  }
 },
 "nbformat": 4,
 "nbformat_minor": 4
}
