{
 "cells": [
  {
   "cell_type": "markdown",
   "metadata": {},
   "source": [
    "## (2x+5/x^2+5x+6)\n"
   ]
  },
  {
   "cell_type": "code",
   "execution_count": 1,
   "metadata": {},
   "outputs": [
    {
     "name": "stdout",
     "output_type": "stream",
     "text": [
      "enter x value: 5\n",
      "0.26785714285714285\n"
     ]
    }
   ],
   "source": [
    "x=int(input('enter x value: '))\n",
    "p=(2*x)+5\n",
    "q=(x*x+5*x+6)\n",
    "z=p/q\n",
    "print(z)"
   ]
  },
  {
   "cell_type": "markdown",
   "metadata": {},
   "source": [
    "## (x^2+5x+6/2x+5)\n"
   ]
  },
  {
   "cell_type": "code",
   "execution_count": 2,
   "metadata": {},
   "outputs": [
    {
     "name": "stdout",
     "output_type": "stream",
     "text": [
      "enter x value: 5\n",
      "3.7333333333333334\n"
     ]
    }
   ],
   "source": [
    "x=int(input('enter x value: '))\n",
    "p1=x*x+5*x+6\n",
    "q1=2*x+5\n",
    "z1=p1/q1\n",
    "print(z1)\n"
   ]
  },
  {
   "cell_type": "markdown",
   "metadata": {},
   "source": [
    "## (2x-3)(x+9)"
   ]
  },
  {
   "cell_type": "code",
   "execution_count": 3,
   "metadata": {},
   "outputs": [
    {
     "name": "stdout",
     "output_type": "stream",
     "text": [
      "enter x value: 5\n",
      "98\n"
     ]
    }
   ],
   "source": [
    "x=int(input('enter x value: '))\n",
    "p2=2*x-3\n",
    "q2=x+9\n",
    "z2=p2*q2\n",
    "print(z2)"
   ]
  },
  {
   "cell_type": "markdown",
   "metadata": {},
   "source": [
    "## (2x-3)(x-9)\n"
   ]
  },
  {
   "cell_type": "code",
   "execution_count": 4,
   "metadata": {},
   "outputs": [
    {
     "name": "stdout",
     "output_type": "stream",
     "text": [
      "enter x value: 5\n",
      "-28\n"
     ]
    }
   ],
   "source": [
    "x=int(input('enter x value: '))\n",
    "p3=2*x-3\n",
    "q3=x-9\n",
    "z3=p3*q3\n",
    "print(z3)"
   ]
  },
  {
   "cell_type": "markdown",
   "metadata": {},
   "source": [
    "## Create a username and password login file using nested while loop\n"
   ]
  },
  {
   "cell_type": "code",
   "execution_count": 5,
   "metadata": {},
   "outputs": [
    {
     "name": "stdout",
     "output_type": "stream",
     "text": [
      "Enter correct username and password combo to continue\n",
      "Enter username: mahesh\n",
      "Enter password: 123\n",
      "Access denied. Try again.\n",
      "Enter username: admin\n",
      "Enter password: Hytu76E\n",
      "Access granted\n"
     ]
    }
   ],
   "source": [
    "print('Enter correct username and password combo to continue')\n",
    "count=0\n",
    "while count < 3:\n",
    "    username = input('Enter username: ')\n",
    "    password = input('Enter password: ')\n",
    "    if password=='Hytu76E' and username=='admin':\n",
    "        print('Access granted')\n",
    "        break\n",
    "    else:\n",
    "        print('Access denied. Try again.')\n",
    "        count += 1"
   ]
  },
  {
   "cell_type": "markdown",
   "metadata": {},
   "source": [
    "### Create a username and password login file using for loop"
   ]
  },
  {
   "cell_type": "code",
   "execution_count": 6,
   "metadata": {},
   "outputs": [
    {
     "name": "stdout",
     "output_type": "stream",
     "text": [
      "Welcome to Sign in\n",
      "Enter username: mahesh\n",
      "Incorrect-try again\n",
      "Enter username: a\n",
      "username has been accepted.\n",
      "Enter Password: 12\n",
      "Incorrect-try again\n",
      "Enter Password: 123\n",
      "password has been accepted.\n"
     ]
    }
   ],
   "source": [
    "x=\"a\"\n",
    "y=\"123\"\n",
    "print('Welcome to Sign in')\n",
    "#user=input(\"Enter username: \")\n",
    "for i in range (3, 0 , -1):\n",
    "  attempt=input(\"Enter username: \")\n",
    "  if attempt==x:\n",
    "    break\n",
    "  else:\n",
    "    print('Incorrect-try again')\n",
    "    \n",
    "if i == 1:\n",
    "  print('You have been denied access.')\n",
    "else:\n",
    "  print('username has been accepted.')            \n",
    "    \n",
    "\n",
    "for i in range (3, 0 , -1):\n",
    "  attempt=input(\"Enter Password: \")\n",
    "  if attempt==y:\n",
    "    break\n",
    "  else:\n",
    "    print('Incorrect-try again')\n",
    "    \n",
    "if i == 1:\n",
    "  print('You have been denied access.')\n",
    "else:\n",
    "  print('password has been accepted.')            \n",
    "    "
   ]
  }
 ],
 "metadata": {
  "kernelspec": {
   "display_name": "Python 3",
   "language": "python",
   "name": "python3"
  },
  "language_info": {
   "codemirror_mode": {
    "name": "ipython",
    "version": 3
   },
   "file_extension": ".py",
   "mimetype": "text/x-python",
   "name": "python",
   "nbconvert_exporter": "python",
   "pygments_lexer": "ipython3",
   "version": "3.8.5"
  }
 },
 "nbformat": 4,
 "nbformat_minor": 4
}
