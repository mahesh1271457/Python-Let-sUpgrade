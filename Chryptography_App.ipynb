{
 "cells": [
  {
   "cell_type": "markdown",
   "metadata": {},
   "source": [
    "## PATHI MAHESH KUMAR\n",
    "\n",
    "maheshkumarpathi.1999@gmail.com"
   ]
  },
  {
   "cell_type": "markdown",
   "metadata": {},
   "source": [
    "### Develop a cryptography app in python."
   ]
  },
  {
   "cell_type": "code",
   "execution_count": null,
   "metadata": {},
   "outputs": [],
   "source": [
    "from tkinter import *\n",
    "#import tkinter\n",
    "root = Tk()\n",
    "root.title(\"Chryptography App\")\n",
    "def encryptMessage():\n",
    "    a = var.get()\n",
    "    ct = onetimepad.encrypt(a,\"letupgrade\")\n",
    "    print(\"Working\",ct) \n",
    "    e2.delete(0,END)\n",
    "    e2.insert(END,ct)\n",
    "def dycrptMessage():\n",
    "    a = var2.get()\n",
    "    ct = onetimepad.decrypt(a,\"letupgrade\")\n",
    "    print(\"Working\",ct) \n",
    "    e4.delete(0,END)\n",
    "    e4.insert(END,ct)\n",
    "l1 = Label(root,text=\"Plain Text\")\n",
    "l1.grid(row=0,column=0)\n",
    "l3 = Label(root,text=\"Encypted Text\")\n",
    "l3.grid(row=0,column=2)\n",
    "var= StringVar()\n",
    "e1 = Entry(root,textvariable=var)\n",
    "e1.grid(row=0,column=1)\n",
    "var2= StringVar()\n",
    "e3 = Entry(root,textvariable=var2)\n",
    "e3.grid(row=0,column=3)\n",
    "l2 = Label(root,text=\"Encypted Text\")\n",
    "l2.grid(row=1,column=0)\n",
    "l4 = Label(root,text=\"Plain Text\")\n",
    "l4.grid(row=1,column=2)\n",
    "e2 = Entry(root)\n",
    "e2.grid(row=1,column=1)\n",
    "e4 = Entry(root)\n",
    "e4.grid(row=1,column=3)\n",
    "b1 = Button(root,text=\"Encyption\",bg=\"pink\",fg=\"yellow\",command=encryptMessage)\n",
    "b1.grid(row=2,column=1)\n",
    "b2 = Button(root,text=\"Dycrption\",bg=\"pink\",fg=\"yellow\",command=dycrptMessage)\n",
    "b2.grid(row=2,column=3)\n",
    "root.mainloop()"
   ]
  },
  {
   "cell_type": "markdown",
   "metadata": {},
   "source": [
    "#### See Output Here\n",
    "\n",
    "https://drive.google.com/file/d/1BA9ZdHLJ3lCng3K0pG4-JF7hHsmHSq_Q/view?usp=sharing"
   ]
  }
 ],
 "metadata": {
  "kernelspec": {
   "display_name": "Python 3",
   "language": "python",
   "name": "python3"
  }
 },
 "nbformat": 4,
 "nbformat_minor": 4
}
