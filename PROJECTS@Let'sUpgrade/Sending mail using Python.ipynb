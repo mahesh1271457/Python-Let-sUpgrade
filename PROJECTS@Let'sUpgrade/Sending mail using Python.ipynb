{
 "cells": [
  {
   "cell_type": "markdown",
   "metadata": {},
   "source": [
    "## PATHI MAHESH KUMAR\n",
    "\n",
    "maheshkumarpathi.1999@gmail.com "
   ]
  },
  {
   "cell_type": "markdown",
   "metadata": {},
   "source": [
    "### Sending mail using Python"
   ]
  },
  {
   "cell_type": "code",
   "execution_count": 3,
   "metadata": {},
   "outputs": [
    {
     "name": "stdout",
     "output_type": "stream",
     "text": [
      "Enter your message here HELLO\n"
     ]
    },
    {
     "data": {
      "text/plain": [
       "(221, b'2.0.0 closing connection e35sm18821507pgm.4 - gsmtp')"
      ]
     },
     "execution_count": 3,
     "metadata": {},
     "output_type": "execute_result"
    }
   ],
   "source": [
    "import smtplib\n",
    "s=smtplib.SMTP(\"smtp.gmail.com\",587)\n",
    "s.starttls()\n",
    "s.login(\"maheshkumarpathi.1999@gmail.com\",\"ooiuyiydiuvgqnmfsu\")\n",
    "msg=input(\"Enter your message here \")\n",
    "s.sendmail(\"maheshkmaheshkumarpathi.1999@gmail.com\",\"maheshkumarpathi.19999@gmail.com\",msg)\n",
    "s.quit()"
   ]
  }
 ],
 "metadata": {
  "kernelspec": {
   "display_name": "Python 3",
   "language": "python",
   "name": "python3"
  },
  "language_info": {
   "codemirror_mode": {
    "name": "ipython",
    "version": 3
   },
   "file_extension": ".py",
   "mimetype": "text/x-python",
   "name": "python",
   "nbconvert_exporter": "python",
   "pygments_lexer": "ipython3",
   "version": "3.8.5"
  }
 },
 "nbformat": 4,
 "nbformat_minor": 4
}
