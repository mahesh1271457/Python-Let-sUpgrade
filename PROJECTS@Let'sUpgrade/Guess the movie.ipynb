{
  "nbformat": 4,
  "nbformat_minor": 0,
  "metadata": {
    "kernelspec": {
      "display_name": "Python 3",
      "language": "python",
      "name": "python3"
    },
    "language_info": {
      "codemirror_mode": {
        "name": "ipython",
        "version": 3
      },
      "file_extension": ".py",
      "mimetype": "text/x-python",
      "name": "python",
      "nbconvert_exporter": "python",
      "pygments_lexer": "ipython3",
      "version": "3.8.3"
    },
    "colab": {
      "name": "Projects.ipynb",
      "provenance": []
    }
  },
  "cells": [
    {
      "cell_type": "markdown",
      "metadata": {
        "id": "d57pZPw9ptsj"
      },
      "source": [
        "# Guess the Movies Name"
      ]
    },
    {
      "cell_type": "code",
      "metadata": {
        "id": "hNS8KfCuptsk"
      },
      "source": [
        "#Firebase connectivity"
      ],
      "execution_count": null,
      "outputs": []
    },
    {
      "cell_type": "code",
      "metadata": {
        "id": "q2SMccq5ptsk",
        "outputId": "5ef20b28-b34e-4416-92c4-18ee513f3b0d"
      },
      "source": [
        "import firebase_admin\n",
        "from firebase_admin import credentials\n",
        "\n",
        "cred = credentials.Certificate(\"my-project.json\")\n",
        "firebase_admin.initialize_app(cred)\n",
        "print(\"Working\")"
      ],
      "execution_count": null,
      "outputs": [
        {
          "output_type": "stream",
          "text": [
            "Working\n"
          ],
          "name": "stdout"
        }
      ]
    },
    {
      "cell_type": "code",
      "metadata": {
        "id": "EezZL3Xqptsm"
      },
      "source": [
        "from firebase_admin import firestore\n"
      ],
      "execution_count": null,
      "outputs": []
    },
    {
      "cell_type": "code",
      "metadata": {
        "id": "K_VioyReptsn",
        "outputId": "c19f377a-5e9a-4ea7-a11a-bdaf306ed014"
      },
      "source": [
        "db = firestore.client()\n",
        "doc_ref = db.collection(\"movies\").document(\"Bollywood\")\n",
        "\n",
        "data = {\"Name\":[\"war\",\"kgf\",\"3-idiot\",\"family-man\",\"dangal\"],\n",
        "       \"collection\":[400,500,200,100,600]}\n",
        "doc_ref.set(data)\n",
        "print(\"done\")"
      ],
      "execution_count": null,
      "outputs": [
        {
          "output_type": "stream",
          "text": [
            "done\n"
          ],
          "name": "stdout"
        }
      ]
    },
    {
      "cell_type": "markdown",
      "metadata": {
        "id": "yLV-lFJQptso"
      },
      "source": [
        "# Retrive the dataset from firebase "
      ]
    },
    {
      "cell_type": "code",
      "metadata": {
        "id": "JBTVcu4Qptso"
      },
      "source": [
        "db = firestore.client()\n",
        "\n",
        "docs = db.collection(\"movies\").stream()\n",
        "for d in docs:\n",
        "    #print(d.to_dict())\n",
        "    database = d.to_dict()"
      ],
      "execution_count": null,
      "outputs": []
    },
    {
      "cell_type": "code",
      "metadata": {
        "id": "twWTfTUaptsp"
      },
      "source": [
        "d = database[\"Name\"]"
      ],
      "execution_count": null,
      "outputs": []
    },
    {
      "cell_type": "markdown",
      "metadata": {
        "id": "ChcTPKr2ptsp"
      },
      "source": [
        "# Guess the Movie Name"
      ]
    },
    {
      "cell_type": "code",
      "metadata": {
        "id": "Uh1XP9I4ptsp",
        "outputId": "f99b3d73-23ab-4141-c3b3-8fec3c58d273"
      },
      "source": [
        "import random\n",
        "movie = database[\"Name\"]\n",
        "player = input(\"Write your Name: \")\n",
        "print(\"Guess the character: \")\n",
        "print(\"You have 10 chance to get the movie name: \")\n",
        "print(\"Best of luck!\",player)\n",
        "\n",
        "\n",
        "count = 10\n",
        "\n",
        "geuss= \"\"\n",
        "\n",
        "word = random.choice(movie) #war\n",
        "\n",
        "while count>0:\n",
        "    fail = 0\n",
        "    for char in word:\n",
        "        if char in geuss:\n",
        "            print(char)\n",
        "        else:\n",
        "            print(\"_\")\n",
        "            fail+=1\n",
        "            \n",
        "            \n",
        "    if fail==0:\n",
        "        print(\"Congratulation you won!!!\")\n",
        "        print(\"Movie Name was:\",word)\n",
        "        break\n",
        "        \n",
        "    g = input(\"Enter your character: \")\n",
        "    geuss = geuss+g\n",
        "    \n",
        "    if g not in word:\n",
        "        count = count-1\n",
        "        print(\"Wrong Answer:(\")\n",
        "\n",
        "        print(\"You have \",count,\"more geusses\")\n",
        "\n",
        "\n",
        "\n",
        "\n",
        "\n",
        "\n",
        "\n",
        "\n"
      ],
      "execution_count": null,
      "outputs": [
        {
          "output_type": "stream",
          "text": [
            "Write your Name: Rahul\n",
            "Guess the character: \n",
            "You have 10 chance to get the movie name: \n",
            "Best of luck! Rahul\n",
            "_\n",
            "_\n",
            "_\n",
            "Enter your character: r\n",
            "_\n",
            "_\n",
            "r\n",
            "Enter your character: q\n",
            "Wrong Answer:(\n",
            "You have  9 more geusses\n",
            "_\n",
            "_\n",
            "r\n",
            "Enter your character: e\n",
            "Wrong Answer:(\n",
            "You have  8 more geusses\n",
            "_\n",
            "_\n",
            "r\n",
            "Enter your character: w\n",
            "w\n",
            "_\n",
            "r\n",
            "Enter your character: a\n",
            "w\n",
            "a\n",
            "r\n",
            "Congratulation you won!!!\n",
            "Movie Name was: war\n"
          ],
          "name": "stdout"
        }
      ]
    },
    {
      "cell_type": "code",
      "metadata": {
        "id": "cNi1cez2ptsq",
        "outputId": "b20a37b5-63db-4107-b3a3-e939a4ef39e7"
      },
      "source": [
        "random.randrange(1,100)"
      ],
      "execution_count": null,
      "outputs": [
        {
          "output_type": "execute_result",
          "data": {
            "text/plain": [
              "79"
            ]
          },
          "metadata": {
            "tags": []
          },
          "execution_count": 72
        }
      ]
    }
  ]
}