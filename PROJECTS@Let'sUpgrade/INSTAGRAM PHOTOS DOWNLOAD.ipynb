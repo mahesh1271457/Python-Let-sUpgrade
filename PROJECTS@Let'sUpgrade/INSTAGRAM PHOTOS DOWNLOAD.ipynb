{
 "cells": [
  {
   "cell_type": "markdown",
   "metadata": {},
   "source": [
    "# PATHI MAHESH KUMAR\n",
    "\n",
    "maheshkumarpathi.1999@gmail.com"
   ]
  },
  {
   "cell_type": "markdown",
   "metadata": {},
   "source": [
    "# Instagram Photo Downloader\n",
    "\n",
    "instaloader profile username\n",
    "\n",
    "open command(cmd)\n",
    "\n",
    "pip install instaloader\n",
    "\n",
    "instaloader –help\n",
    "\n",
    "instaloader --no-videos --comments --geotags --no-metadata-json  --no-compress-json profile username\n",
    "\n",
    "\n",
    "instaloader --no-videos --comments --geotags --no-metadata-json  --no-compress-json –login username profile ritesh.ai\n",
    "\n",
    "instaloader --no-videos --comments --geotags --no-metadata-json  --no-compress-json –login username  --password password profile maheshkumarpathi"
   ]
  }
 ],
 "metadata": {
  "kernelspec": {
   "display_name": "Python 3",
   "language": "python",
   "name": "python3"
  },
  "language_info": {
   "codemirror_mode": {
    "name": "ipython",
    "version": 3
   },
   "file_extension": ".py",
   "mimetype": "text/x-python",
   "name": "python",
   "nbconvert_exporter": "python",
   "pygments_lexer": "ipython3",
   "version": "3.8.5"
  }
 },
 "nbformat": 4,
 "nbformat_minor": 4
}
